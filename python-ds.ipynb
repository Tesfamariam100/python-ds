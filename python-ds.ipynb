{
 "cells": [
  {
   "cell_type": "markdown",
   "metadata": {},
   "source": [
    "# Web Mining and Applied NLP (44-620)\n",
    "\n",
    "## Python Notebooks, Basics, and Data Structures\n",
    "\n",
    "### Student Name: Tesfamariam G.\n",
    "#### GitHub repository: https://github.com/Tesfamariam100/python-ds\n",
    "#### Nov 01, 2024\n",
    "\n",
    "Perform the tasks described in the Markdown cells below.  When you have completed the assignment make sure your code cells have all been run (and have output beneath them) and ensure you have committed and pushed ALL of your changes to your assignment repository.\n",
    "\n",
    "Every question that requires you to write code will have a code cell underneath it; you may either write your entire solution in that cell or write it in a python file (`.py`), then import and run the appropriate code to answer the question.\n",
    "\n",
    "Do not use external modules (`math`, etc) for this assignment unless you are explicitly instructed to, though you may use built in python functions (`min`, `max`, etc) as you wish."
   ]
  },
  {
   "cell_type": "markdown",
   "metadata": {},
   "source": [
    "### Q 1. \n",
    "Modify the Markdown cell above to put your name after \"Student Name:\"; you will be expected to do this in all assignments presented in this format for this class."
   ]
  },
  {
   "cell_type": "markdown",
   "metadata": {},
   "source": [
    "### Q2. \n",
    "Write code that divides any two numbers, stores the result in a variable, and prints the result with an appropriate label."
   ]
  },
  {
   "cell_type": "code",
   "execution_count": 5,
   "metadata": {},
   "outputs": [
    {
     "name": "stdout",
     "output_type": "stream",
     "text": [
      "The result of division num1/num2 is: 2.0\n"
     ]
    }
   ],
   "source": [
    "# Define two numbers\n",
    "num1 = 10\n",
    "num2 = 5\n",
    "#perform the devision\n",
    "result = num1 / num2\n",
    "#print the result\n",
    "print(\"The result of division num1/num2 is:\", result)"
   ]
  },
  {
   "cell_type": "markdown",
   "metadata": {},
   "source": [
    "### Q3. \n",
    "Using loops (and potentially conditionals), write Python code that prints the factorial of each integer from 1 through 10 (which you can store in a variable if you want). The factorial of an integer is the product of all of the integers of 1 through the number. Print the result with an appropriate label."
   ]
  },
  {
   "cell_type": "code",
   "execution_count": 7,
   "metadata": {},
   "outputs": [
    {
     "name": "stdout",
     "output_type": "stream",
     "text": [
      "The factorial of 1 is 1\n",
      "The factorial of 2 is 2\n",
      "The factorial of 3 is 6\n",
      "The factorial of 4 is 24\n",
      "The factorial of 5 is 120\n",
      "The factorial of 6 is 720\n",
      "The factorial of 7 is 5040\n",
      "The factorial of 8 is 40320\n",
      "The factorial of 9 is 362880\n",
      "The factorial of 10 is 3628800\n"
     ]
    }
   ],
   "source": [
    "# Initialize a loop from 1 to 10\n",
    "for number in range(1, 11):\n",
    "    factorial = 1  # Start with a factorial value of 1\n",
    "\n",
    "    # Calculate the factorial for the current number\n",
    "    for  in range(1, number + 1):\n",
    "        factorial *= a  # Multiply factorial by the current number i\n",
    "\n",
    "    # Print the result with an appropriate label\n",
    "    print(f\"The factorial of {number} is {factorial}\")"
   ]
  },
  {
   "cell_type": "markdown",
   "metadata": {},
   "source": [
    "### Q4.\n",
    "Write a python function that takes a single parameter and calculates and returns the average (mean) of the values in the parameter (which you may assume is iterable).  Show that your function works by printing the result of calling the function on the list in the cell below."
   ]
  },
  {
   "cell_type": "code",
   "execution_count": 13,
   "metadata": {},
   "outputs": [
    {
     "name": "stdout",
     "output_type": "stream",
     "text": [
      "The average of the list is: 0.0\n"
     ]
    }
   ],
   "source": [
    "testlist = [1,-1,2,-2,3,-3,4,-4]\n",
    "def calculate_average(values):\n",
    "    # Check if the input is an iterable and not empty\n",
    "    if not values:\n",
    "        return 0  # Return 0 for empty iterable to avoid division by zero\n",
    "\n",
    "    total_sum = sum(values)  # Calculate the sum of values\n",
    "    count = len(values)       # Get the number of elements\n",
    "    average = total_sum / count  # Calculate the average\n",
    "\n",
    "    return average \n",
    "\n",
    "# Example list to test the function\n",
    "testlist = [1, -1, 2, -2, 3, -3, 4, -4]\n",
    "\n",
    "# Call the function and print the result\n",
    "average_result = calculate_average(testlist)\n",
    "print(f\"The average of the list is: {average_result}\")"
   ]
  },
  {
   "cell_type": "markdown",
   "metadata": {},
   "source": [
    "### Q5.\n",
    "Using your mean function above, write a function that calculates the variance of the list of numbers (see https://en.wikipedia.org/wiki/Variance for more information on the formula). In short:\n",
    "* subtract the mean of the elements in the list from every element in the list; store these values in a new list\n",
    "* square every element in the new list and sum the elements together\n",
    "* divide the resulting number by N (where N is the length of the original list)\n",
    "\n",
    "Show the result of calling your function in the lists in the code cell. You must use one or more list comprehensions or map/filter in your code.\n"
   ]
  },
  {
   "cell_type": "code",
   "execution_count": 17,
   "metadata": {},
   "outputs": [
    {
     "name": "stdout",
     "output_type": "stream",
     "text": [
      "Variance of list1: 1.13973309\n",
      "Variance of list2: 0.9257232841\n"
     ]
    }
   ],
   "source": [
    "list1 = [ 5.670e-1, -1.480e+0, -5.570e-1, -1.470e+0, 7.340e-1, 1.050e+0, 4.480e-1, 2.570e-1, -1.970e+0, -1.460e+0]\n",
    "list2 = [-1.780e+0, 2.640e-1, 1.160e+0, 9.080e-1, 1.780e+0, 1.080e+0, 1.050e+0, -4.630e-2, 1.520e+0, 5.350e-1]\n",
    "# the variances of both lists should be relatively close to 1 (off by less than .15)\n",
    "# Calculate variances\n",
    "def calculate_mean(numbers):\n",
    "    # Calculate the mean of a list of numbers\n",
    "    return sum(numbers) / len(numbers)\n",
    "\n",
    "def calculate_variance(numbers):\n",
    "    # Calculate the variance of a list of numbers\n",
    "    mean = calculate_mean(numbers)\n",
    "    deviations = [x - mean for x in numbers]  # Subtract mean from each element\n",
    "    squared_deviations = [d ** 2 for d in deviations]  # Square each deviation\n",
    "    variance = sum(squared_deviations) / len(numbers)  # Divide by N\n",
    "    return variance\n",
    "\n",
    "# Given lists\n",
    "list1 = [5.670e-1, -1.480e+0, -5.570e-1, -1.470e+0, 7.340e-1, 1.050e+0, 4.480e-1, 2.570e-1, -1.970e+0, -1.460e+0]\n",
    "list2 = [-1.780e+0, 2.640e-1, 1.160e+0, 9.080e-1, 1.780e+0, 1.080e+0, 1.050e+0, -4.630e-2, 1.520e+0, 5.350e-1]\n",
    "\n",
    "# Calculate variances\n",
    "variance_list1 = calculate_variance(list1)\n",
    "variance_list2 = calculate_variance(list2)\n",
    "\n",
    "# Show results\n",
    "print(\"Variance of list1:\", variance_list1)\n",
    "print(\"Variance of list2:\", variance_list2)\n"
   ]
  },
  {
   "cell_type": "markdown",
   "metadata": {},
   "source": [
    "### Q6.\n",
    "Create a list with at least 15 elements in it. Use list slicing to print the following:\n",
    "* The first 5 elements of the list\n",
    "* The last 5 elements of the list\n",
    "* The list reversed (hint, show the entire list with a stride of -1)\n",
    "* Every second element in the list\n",
    "* Every third element in the list (stride of 3)"
   ]
  },
  {
   "cell_type": "code",
   "execution_count": 19,
   "metadata": {},
   "outputs": [
    {
     "name": "stdout",
     "output_type": "stream",
     "text": [
      "First 5 elements: [101, 102, 103, 104, 105]\n",
      "Last 5 elements: [112, 113, 114, 115, 116]\n",
      "Reversed list: [116, 115, 114, 113, 112, 111, 110, 109, 108, 107, 106, 105, 104, 103, 102, 101]\n",
      "Every second element: [101, 103, 105, 107, 109, 111, 113, 115]\n",
      "Every third element: [101, 104, 107, 110, 113, 116]\n"
     ]
    }
   ],
   "source": [
    "# Create a list with elements from 100 to 115\n",
    "my_list = list(range(101, 117))\n",
    "\n",
    "# Print the first 5 elements of the list\n",
    "print(\"First 5 elements:\", my_list[:5])\n",
    "\n",
    "# Print the last 5 elements of the list\n",
    "print(\"Last 5 elements:\", my_list[-5:])\n",
    "\n",
    "# Print the list reversed\n",
    "print(\"Reversed list:\", my_list[::-1])\n",
    "\n",
    "# Print every second element in the list\n",
    "print(\"Every second element:\", my_list[::2])\n",
    "\n",
    "# Print every third element in the list\n",
    "print(\"Every third element:\", my_list[::3])\n"
   ]
  },
  {
   "cell_type": "markdown",
   "metadata": {},
   "source": [
    "### Q7.\n",
    "Build a dictionary that contains the following information about this class (with appropriate names as keys):\n",
    "* The name\n",
    "* The course number\n",
    "* The semester/term in which you are taking this course\n",
    "* The number of credit hours this course counts for\n",
    "* A list of the course learning objectives\n",
    "\n",
    "The majority of this information can be found in the syllabus. Print the dictionary."
   ]
  },
  {
   "cell_type": "code",
   "execution_count": 20,
   "metadata": {},
   "outputs": [
    {
     "name": "stdout",
     "output_type": "stream",
     "text": [
      "{'name': 'Web Mining and Applied Natural Language Processing (NLP)', 'course_number': '44-620', 'semester': 'Fall 2024 - OP2', 'credit_hours': 3, 'learning_objectives': ['Manage Python libraries and packages.', 'Interact with Hosted Version Control Systems (e.g., Git and GitHub).', 'Programmatically obtain and transform data from web-based APIs and HTML pages into a usable form.', 'Describe the steps in a basic Natural Language Processing Pipeline.', 'Use preexisting tools and software libraries to perform Natural Language Processing tasks, such as sentiment analysis.', 'Explain results and conclusions drawn from visualized information.']}\n"
     ]
    }
   ],
   "source": [
    "# Create a dictionary with course information\n",
    "course_info = {\n",
    "    \"name\": \"Web Mining and Applied Natural Language Processing (NLP)\",\n",
    "    \"course_number\": \"44-620\",\n",
    "    \"semester\": \"Fall 2024 - OP2\",\n",
    "    \"credit_hours\": 3,\n",
    "    \"learning_objectives\": [\n",
    "        \"Manage Python libraries and packages.\",\n",
    "        \"Interact with Hosted Version Control Systems (e.g., Git and GitHub).\",\n",
    "        \"Programmatically obtain and transform data from web-based APIs and HTML pages into a usable form.\",\n",
    "        \"Describe the steps in a basic Natural Language Processing Pipeline.\",\n",
    "        \"Use preexisting tools and software libraries to perform Natural Language Processing tasks, such as sentiment analysis.\",\n",
    "        \"Explain results and conclusions drawn from visualized information.\"\n",
    "    ]\n",
    "}\n",
    "\n",
    "# Print the dictionary\n",
    "print(course_info)\n"
   ]
  },
  {
   "cell_type": "markdown",
   "metadata": {},
   "source": [
    "### Q8.\n",
    "Given the dictionary defined in the code cell below, print the list of level 3 spells the character has."
   ]
  },
  {
   "cell_type": "code",
   "execution_count": 21,
   "metadata": {},
   "outputs": [
    {
     "name": "stdout",
     "output_type": "stream",
     "text": [
      "['Mass Healing Word', 'Nondetection', 'Revivify', 'Feign Death', 'Speak with Dead']\n"
     ]
    }
   ],
   "source": [
    "# Given dictionary\n",
    "player_character = {'name': 'Kitab',\n",
    "                   'class': [('Cleric: Knowledge', 7)],\n",
    "                   'spells': {'cantrip': ['Guidance', 'Light', 'Thaumaturgy', 'Toll the Dead', 'Word of Radiance'],\n",
    "                             'level 1': ['Command', 'Detect Magic', 'Healing Word', 'Identify', 'Sleep'],\n",
    "                             'level 2': ['Augury', 'Calm Emotions', 'Command', 'Invisibility', 'Lesser Restoration'],\n",
    "                             'level 3': ['Mass Healing Word', 'Nondetection', 'Revivify', 'Feign Death', 'Speak with Dead'],\n",
    "                             'level 4': ['Banishment', 'Confusion']}\n",
    "                   }\n",
    "\n",
    "# Print the list of level 3 spells\n",
    "level_3_spells = player_character['spells']['level 3']\n",
    "print(level_3_spells)"
   ]
  },
  {
   "cell_type": "markdown",
   "metadata": {},
   "source": [
    "### Q9.\n",
    "Write code to determine the number of unique elements in the list below.  You MUST use a set in finding your solution.  Print the number of unique values in the list with an appropriate label."
   ]
  },
  {
   "cell_type": "code",
   "execution_count": 22,
   "metadata": {},
   "outputs": [
    {
     "name": "stdout",
     "output_type": "stream",
     "text": [
      "Number of unique values in the list: 12\n"
     ]
    }
   ],
   "source": [
    "values = [10, 11, 10, 8, 1, 12, 0, 1, 6, 5, 5, 13, 6, 15, 0, 0, 1, 1, 9, 7]\n",
    "\n",
    "# Use a set to find unique elements\n",
    "unique_values = set(values)\n",
    "\n",
    "# Count the number of unique elements\n",
    "unique_count = len(unique_values)\n",
    "\n",
    "# Print the number of unique values\n",
    "print(f\"Number of unique values in the list: {unique_count}\")\n"
   ]
  },
  {
   "cell_type": "markdown",
   "metadata": {},
   "source": [
    "### Q10. \n",
    "Create a new Jupyter Notebook (the name of the notebook should be your S number). Add a Markdown cell that contains your name. Add a Code cell and write Python that uses loops to draw the following pattern:\n",
    "\n",
    "```\n",
    "*      *\n",
    "**    **\n",
    "***  ***\n",
    "********\n",
    "```\n",
    "Make sure to add and submit both the new notebook and the changes to this notebook for this assignment."
   ]
  },
  {
   "cell_type": "code",
   "execution_count": null,
   "metadata": {},
   "outputs": [],
   "source": []
  }
 ],
 "metadata": {
  "kernelspec": {
   "display_name": "Python 3 (ipykernel)",
   "language": "python",
   "name": "python3"
  },
  "language_info": {
   "codemirror_mode": {
    "name": "ipython",
    "version": 3
   },
   "file_extension": ".py",
   "mimetype": "text/x-python",
   "name": "python",
   "nbconvert_exporter": "python",
   "pygments_lexer": "ipython3",
   "version": "3.12.4"
  }
 },
 "nbformat": 4,
 "nbformat_minor": 4
}
