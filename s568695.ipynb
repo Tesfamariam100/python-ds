{
 "cells": [
  {
   "cell_type": "markdown",
   "id": "af60da8e-1b9d-412b-a3de-1e5c3073499a",
   "metadata": {},
   "source": [
    "## Web Mining and Applied NLP (44-620)\n",
    "\n",
    "### Python Notebooks, Basics, and Data Structures\n",
    "\n",
    "### Student Name: Tesfamariam G.\n",
    "### Nov 01, 2024"
   ]
  },
  {
   "cell_type": "markdown",
   "id": "d9febe71-1ce3-4f1e-963c-01733a704caf",
   "metadata": {},
   "source": [
    "### Q10.\n",
    "Create a new Jupyter Notebook (the name of the notebook should be your S number). Add a Markdown cell that contains your name. Add a Code cell and write Python that uses loops to draw the following pattern:\n",
    "\n",
    "```\n",
    "*      *\n",
    "**    **\n",
    "***  ***\n",
    "********\n",
    "```\n",
    "Make sure to add and submit both the new notebook and the changes to this notebook for this assignment."
   ]
  },
  {
   "cell_type": "code",
   "execution_count": 1,
   "id": "327b0106-8853-4b87-8546-314237b0f0da",
   "metadata": {},
   "outputs": [
    {
     "name": "stdout",
     "output_type": "stream",
     "text": [
      "        \n",
      "*      *\n",
      "**    **\n",
      "***  ***\n",
      "********\n"
     ]
    }
   ],
   "source": [
    "# Number of rows for the pattern\n",
    "rows = 4\n",
    "\n",
    "# Loop through each row\n",
    "for i in range(rows + 1):\n",
    "    # Print stars\n",
    "    print('*' * i, end='')\n",
    "    \n",
    "    # Print spaces\n",
    "    print(' ' * (2 * (rows - i)), end='')\n",
    "    \n",
    "    # Print stars again\n",
    "    print('*' * i)\n"
   ]
  },
  {
   "cell_type": "code",
   "execution_count": 3,
   "id": "b9846ffc-cd75-4e1b-9dac-dcc6923920f6",
   "metadata": {},
   "outputs": [
    {
     "name": "stderr",
     "output_type": "stream",
     "text": [
      "[NbConvertApp] Converting notebook s568695.ipynb to html\n",
      "[NbConvertApp] Writing 274456 bytes to s568695.html\n"
     ]
    }
   ],
   "source": [
    "!jupyter nbconvert --to html s568695.ipynb"
   ]
  },
  {
   "cell_type": "code",
   "execution_count": null,
   "id": "076bfa15-daa9-44bd-8aed-1c8b0ee6140b",
   "metadata": {},
   "outputs": [],
   "source": []
  }
 ],
 "metadata": {
  "kernelspec": {
   "display_name": "Python 3 (ipykernel)",
   "language": "python",
   "name": "python3"
  },
  "language_info": {
   "codemirror_mode": {
    "name": "ipython",
    "version": 3
   },
   "file_extension": ".py",
   "mimetype": "text/x-python",
   "name": "python",
   "nbconvert_exporter": "python",
   "pygments_lexer": "ipython3",
   "version": "3.12.4"
  }
 },
 "nbformat": 4,
 "nbformat_minor": 5
}
